{
 "cells": [
  {
   "cell_type": "markdown",
   "id": "5aa5aaf9",
   "metadata": {},
   "source": [
    "# X-Health — Inferência de Default (resumo rápido)\n",
    "\n",
    "**Objetivo.** Estimar a probabilidade de **default** por pedido B2B e definir uma **regra de decisão** (aprovar / revisar / negar).\n",
    "\n",
    "**Dados.** 1 linha = 1 pedido; variáveis internas (comportamento de compra) + externas (Serasa). `default` ∈ {0,1}.\n",
    "\n",
    "---\n",
    "\n",
    "## Metodologia (em 7 passos)\n",
    "\n",
    "1. **Split estratificado (80/20)**  \n",
    "   Mantemos a mesma taxa de default em treino e teste.\n",
    "\n",
    "2. **Pré-processamento por tipo (ColumnTransformer)**  \n",
    "   - Numéricas: `SimpleImputer(median)` + `StandardScaler`  \n",
    "   - Categóricas: `SimpleImputer(most_frequent)` + `OneHotEncoder(handle_unknown=\"ignore\")`\n",
    "\n",
    "3. **Modelagem**  \n",
    "   Avaliamos modelos e escolhemos **RandomForest (class_weight=\"balanced\")** como baseline final dentro de um `Pipeline`.\n",
    "\n",
    "4. **Validação cruzada (5 folds)** no **treino**  \n",
    "   Métricas usadas: **ROC-AUC**, **PR-AUC** (relevante para classe rara) e **Brier** (calibração).\n",
    "\n",
    "5. **Avaliação no teste (probabilidades)**  \n",
    "   Reportamos **ROC-AUC**, **PR-AUC** e **Brier** com o modelo treinado no treino inteiro.\n",
    "\n",
    "6. **Escolha do *threshold***  \n",
    "   - Critério: **F1** (equilíbrio precision × recall) → *cutoff* típico encontrado: **0.30**.  \n",
    "   - Também mostramos **matriz de confusão** e métricas por classe nesse cutoff.\n",
    "\n",
    "7. **Exportação e predição**  \n",
    "   - Salvamos `model.pkl` (pipeline completo) e `threshold.pkl`.  \n",
    "   - Função `predict_default(input_dict)` → retorna `{\"p_default\": prob, \"default\": 0/1, \"threshold\": t}`.\n",
    "\n",
    "---\n",
    "\n",
    "## Métricas (valores obtidos neste notebook)\n",
    "- **ROC-AUC ~ 0.931**, **PR-AUC ~ 0.804**, **Brier ~ 0.072**  \n",
    "- **Cutoff operacional** (F1): **0.30**\n",
    "\n",
    "**Leitura de negócio.** O modelo ranqueia bem o risco e permite política por faixas:  \n",
    "- `p_default < 0.15` → **Aprovar**  \n",
    "- `0.15–0.30` → **Revisar / Garantia**  \n",
    "- `≥ 0.30` → **Negar / Garantia**\n",
    "\n",
    "---\n"
   ]
  },
  {
   "cell_type": "code",
   "execution_count": 49,
   "id": "85987924",
   "metadata": {},
   "outputs": [],
   "source": [
    "# =============================\n",
    "# 1) Importações (limpas)\n",
    "# =============================\n",
    "import os, pickle\n",
    "\n",
    "import numpy as np\n",
    "import pandas as pd\n",
    "import matplotlib.pyplot as plt\n",
    "\n",
    "from sklearn.model_selection import train_test_split, cross_val_score\n",
    "from sklearn.compose import ColumnTransformer\n",
    "from sklearn.pipeline import Pipeline\n",
    "from sklearn.impute import SimpleImputer\n",
    "from sklearn.preprocessing import OneHotEncoder, StandardScaler\n",
    "from sklearn.model_selection import StratifiedKFold, cross_validate\n",
    "\n",
    "\n",
    "\n",
    "from sklearn.linear_model import LogisticRegression       \n",
    "from sklearn.ensemble import RandomForestClassifier\n",
    "\n",
    "from sklearn.metrics import (\n",
    "    roc_auc_score, average_precision_score, brier_score_loss,\n",
    "    f1_score, precision_score, recall_score,\n",
    "    classification_report, confusion_matrix\n",
    ")\n"
   ]
  },
  {
   "cell_type": "code",
   "execution_count": 50,
   "id": "0515f3d4",
   "metadata": {},
   "outputs": [
    {
     "name": "stdout",
     "output_type": "stream",
     "text": [
      "Formato: (117273, 22)\n",
      "   default_3months  ioi_36months  ioi_3months  valor_por_vencer  \\\n",
      "0                0     58.000000    18.236092              0.00   \n",
      "1                1     16.052632     7.500000         224132.85   \n",
      "2                0     13.250000     3.904762         513043.83   \n",
      "\n",
      "   valor_vencido  valor_quitado  quant_protestos  valor_protestos  \\\n",
      "0            0.0      242100.70                0              0.0   \n",
      "1            0.0     4960846.21                0              0.0   \n",
      "2            0.0      158631.93                1           1800.0   \n",
      "\n",
      "   quant_acao_judicial  acao_judicial_valor  ...  dividas_vencidas_qtd  \\\n",
      "0                    0                  0.0  ...                     0   \n",
      "1                    0                  0.0  ...                     0   \n",
      "2                    0                  0.0  ...                     0   \n",
      "\n",
      "   falencia_concordata_qtd                 tipo_sociedade  opcao_tributaria  \\\n",
      "0                        0        empresario (individual)  simples nacional   \n",
      "1                        0  sociedade empresaria limitada               NaN   \n",
      "2                        0  sociedade empresaria limitada  simples nacional   \n",
      "\n",
      "                  atividade_principal forma_pagamento valor_total_pedido  \\\n",
      "0                           papelaria        30/60/90       34665.674938   \n",
      "1  com de equipamentos de informatica        30/60/90        7134.489373   \n",
      "2     servicos de vigilancia e guarda             NaN       72653.621143   \n",
      "\n",
      "  month  year  default  \n",
      "0     6  2019        0  \n",
      "1    10  2018        0  \n",
      "2     4  2018        0  \n",
      "\n",
      "[3 rows x 22 columns]\n"
     ]
    }
   ],
   "source": [
    "# 2) Carregamento dos dados\n",
    "\n",
    "DATA_PATH = \"C:/Python/Case Kognita/dataset_2021-5-26-10-14.csv\" #Mudar caminho de acordo com o local que estiver o Dataset\n",
    "\n",
    "# Observação: o dataset usa 'missing' como marcador de NA.\n",
    "df = pd.read_csv(\n",
    "    DATA_PATH,\n",
    "    sep=\"\\t\",\n",
    "    encoding=\"utf-8\",\n",
    "    na_values=[\"missing\"],       \n",
    "    low_memory=False\n",
    ")\n",
    "\n",
    "print(\"Formato:\", df.shape)\n",
    "print(df.head(3))\n"
   ]
  },
  {
   "cell_type": "code",
   "execution_count": 51,
   "id": "8df62e29",
   "metadata": {},
   "outputs": [
    {
     "name": "stdout",
     "output_type": "stream",
     "text": [
      "Taxa de default: 0.16666240311069044\n"
     ]
    }
   ],
   "source": [
    "# 3) Pré-análise rápida da variável alvo\n",
    "# ==========================================================\n",
    "df[\"default\"] = pd.to_numeric(df[\"default\"], errors=\"coerce\").fillna(0).astype(int)\n",
    "print(\"Taxa de default:\", df[\"default\"].mean())\n"
   ]
  },
  {
   "cell_type": "code",
   "execution_count": 52,
   "id": "17fea2d8",
   "metadata": {},
   "outputs": [],
   "source": [
    "# 4) Divisão em features e target\n",
    "# ==========================================================\n",
    "X = df.drop(columns=[\"default\"])\n",
    "y = df[\"default\"]\n",
    "\n",
    "num_cols = X.select_dtypes(include=[np.number]).columns.tolist()\n",
    "cat_cols = X.select_dtypes(exclude=[np.number]).columns.tolist()\n",
    "\n",
    "X_train, X_test, y_train, y_test = train_test_split(\n",
    "    X, y, test_size=0.2, stratify=y, random_state=42\n",
    ")"
   ]
  },
  {
   "cell_type": "markdown",
   "id": "e07a15b0",
   "metadata": {},
   "source": [
    "1) **Separa features e alvo**\n",
    "- `X = df.drop(columns=[\"default\"])` → todas as colunas **exceto** `default` (entradas do modelo).\n",
    "- `y = df[\"default\"]` → coluna **alvo** (0 = paga, 1 = default).\n",
    "\n",
    "2) **Identifica tipos de colunas**\n",
    "- `num_cols = X.select_dtypes(include=[np.number])` → lista de **numéricas** (int/float).\n",
    "- `cat_cols = X.select_dtypes(exclude=[np.number])` → lista de **categóricas** (texto/objetos).\n",
    "> Essas listas serão usadas no `ColumnTransformer` (numéricas: mediana+escala; categóricas: moda+one-hot).\n",
    "\n",
    "3) **Divide em treino e teste**\n",
    "- `train_test_split(..., test_size=0.2, stratify=y, random_state=42)`  \n",
    "  - **20%** para **teste** (avaliação final), **80%** para **treino**.  \n",
    "  - `stratify=y` mantém a **mesma proporção** de default em treino e teste.  \n",
    "  - `random_state=42` garante **reprodutibilidade** (mesmo split sempre).\n"
   ]
  },
  {
   "cell_type": "code",
   "execution_count": 53,
   "id": "e7c32944",
   "metadata": {},
   "outputs": [],
   "source": [
    "# 6) Pré-processamento (numérico + categórico)\n",
    "# ==========================================================\n",
    "num_pipe = Pipeline([\n",
    "    (\"imputer\", SimpleImputer(strategy=\"median\")),\n",
    "    (\"scaler\", StandardScaler())\n",
    "])\n",
    "\n",
    "cat_pipe = Pipeline([\n",
    "    (\"imputer\", SimpleImputer(strategy=\"most_frequent\")),\n",
    "    (\"onehot\", OneHotEncoder(handle_unknown=\"ignore\", sparse=False))\n",
    "])\n",
    "\n",
    "preprocessor = ColumnTransformer(\n",
    "    transformers=[\n",
    "        (\"num\", num_pipe, num_cols),\n",
    "        (\"cat\", cat_pipe, cat_cols)\n",
    "    ],\n",
    "    remainder=\"drop\"\n",
    ")\n"
   ]
  },
  {
   "cell_type": "markdown",
   "id": "79431234",
   "metadata": {},
   "source": [
    "# Objetivo: preparar os dados antes do modelo.\n",
    "\n",
    "## Números (num_pipe):\n",
    "\n",
    "SimpleImputer(median) → preenche buracos com a mediana.\n",
    "\n",
    "StandardScaler() → coloca tudo na mesma escala (média 0, desvio 1).\n",
    "\n",
    "Categorias (cat_pipe):\n",
    "\n",
    "SimpleImputer(most_frequent) → preenche buracos com o valor mais comum.\n",
    "\n",
    "OneHotEncoder(handle_unknown=\"ignore\", sparse=False) → transforma texto em colunas 0/1 e ignora categorias novas que aparecerem no teste (não quebra).\n",
    "\n",
    "## Juntando tudo:\n",
    "ColumnTransformer([(\"num\", num_pipe, num_cols), (\"cat\", cat_pipe, cat_cols)], remainder=\"drop\")\n",
    "→ aplica a regra certa em cada tipo de coluna e descarta o que não estiver nas listas.\n",
    "\n",
    "##  Por que fazer assim?\n",
    "Mesma preparação em treino e teste, sem vazamento de dados e pronta para qualquer modelo do scikit-learn."
   ]
  },
  {
   "cell_type": "code",
   "execution_count": 54,
   "id": "6e2afc8d",
   "metadata": {},
   "outputs": [
    {
     "name": "stdout",
     "output_type": "stream",
     "text": [
      "ROC_AUC  : 0.931 ± 0.004\n",
      "PR_AUC   : 0.805 ± 0.008\n",
      "Brier(↓) : 0.072 ± 0.001\n"
     ]
    }
   ],
   "source": [
    "# 6.x)Validação cruzada\n",
    "\n",
    "from sklearn.model_selection import StratifiedKFold, cross_validate\n",
    "from sklearn.ensemble import RandomForestClassifier\n",
    "from sklearn.pipeline import Pipeline\n",
    "\n",
    "cv_pipe = Pipeline([\n",
    "    (\"prep\", preprocessor),\n",
    "    (\"clf\", RandomForestClassifier(n_estimators=400,\n",
    "                                   class_weight=\"balanced\",\n",
    "                                   random_state=42))\n",
    "])\n",
    "\n",
    "cv = StratifiedKFold(n_splits=5, shuffle=True, random_state=42)\n",
    "scoring = [\"roc_auc\", \"average_precision\", \"neg_brier_score\"]\n",
    "\n",
    "cv_res = cross_validate(cv_pipe, X_train, y_train,\n",
    "                        scoring=scoring, cv=cv, n_jobs=-1, return_train_score=False)\n",
    "\n",
    "print(\n",
    "    f\"ROC_AUC  : {cv_res['test_roc_auc'].mean():.3f} ± {cv_res['test_roc_auc'].std():.3f}\\n\"\n",
    "    f\"PR_AUC   : {cv_res['test_average_precision'].mean():.3f} ± {cv_res['test_average_precision'].std():.3f}\\n\"\n",
    "    f\"Brier(↓) : {-cv_res['test_neg_brier_score'].mean():.3f} ± {cv_res['test_neg_brier_score'].std():.3f}\"\n",
    ")\n"
   ]
  },
  {
   "cell_type": "markdown",
   "id": "2f5d87ce",
   "metadata": {},
   "source": [
    "## Validação cruzada \n",
    "\n",
    "**Resultados (média ± desvio entre os 5 folds):**\n",
    "- **ROC_AUC:** **0.931 ± 0.004** → o modelo ranqueia muito bem o risco; a variação entre folds é **baixa** (estável).\n",
    "- **PR_AUC:** **0.805 ± 0.008** → ótimo para base desbalanceada; desempenho **consistente** em todos os folds.\n",
    "- **Brier (↓):** **0.072 ± 0.001** → erro das probabilidades é baixo; também **estável**.\n",
    "\n",
    "**O que significa:**\n",
    "- Esses números são a **média no treino**, medidos por **Stratified K-Fold** (mantém a taxa de default em cada fold).\n",
    "- O **desvio pequeno** indica que o modelo **generaliza bem** e não está sensível a subdivisões dos dados.\n",
    "- Como as médias de CV (~0.931 / 0.805 / 0.072) , há **baixo risco de overfitting**.\n",
    "\n",
    "**Podemos confiar nas probabilidades/ranqueamento; com o cutoff escolhido (ex.: 0.30), a política **aprovar / revisar / negar** tende a se manter estável em novos lotes de pedidos.\n"
   ]
  },
  {
   "cell_type": "code",
   "execution_count": 23,
   "id": "35828c00",
   "metadata": {},
   "outputs": [
    {
     "name": "stdout",
     "output_type": "stream",
     "text": [
      "\n",
      "=== Logistic Regression ===\n",
      "AUC: 0.7671700426491279\n",
      "              precision    recall  f1-score   support\n",
      "\n",
      "           0       0.85      0.99      0.92     19546\n",
      "           1       0.71      0.15      0.24      3909\n",
      "\n",
      "    accuracy                           0.85     23455\n",
      "   macro avg       0.78      0.57      0.58     23455\n",
      "weighted avg       0.83      0.85      0.80     23455\n",
      "\n",
      "\n",
      "=== Random Forest ===\n",
      "AUC: 0.9342872866146457\n",
      "              precision    recall  f1-score   support\n",
      "\n",
      "           0       0.91      0.99      0.95     19546\n",
      "           1       0.92      0.50      0.65      3909\n",
      "\n",
      "    accuracy                           0.91     23455\n",
      "   macro avg       0.91      0.75      0.80     23455\n",
      "weighted avg       0.91      0.91      0.90     23455\n",
      "\n",
      "\n",
      "=== XGBoost ===\n",
      "AUC: 0.9055322709622003\n",
      "              precision    recall  f1-score   support\n",
      "\n",
      "           0       0.91      0.98      0.94     19546\n",
      "           1       0.85      0.51      0.64      3909\n",
      "\n",
      "    accuracy                           0.90     23455\n",
      "   macro avg       0.88      0.75      0.79     23455\n",
      "weighted avg       0.90      0.90      0.89     23455\n",
      "\n"
     ]
    }
   ],
   "source": [
    "# 7) Modelos baseline\n",
    "# ==========================================================\n",
    "models = {\n",
    "    \"Logistic Regression\": LogisticRegression(max_iter=1000, random_state=42),\n",
    "    \"Random Forest\": RandomForestClassifier(n_estimators=200, random_state=42),\n",
    "    \"XGBoost\": XGBClassifier(eval_metric=\"logloss\", random_state=42)\n",
    "}\n",
    "\n",
    "results = {}\n",
    "for name, clf in models.items():\n",
    "    pipe = Pipeline(steps=[(\"prep\", preprocessor), (\"clf\", clf)])\n",
    "    pipe.fit(X_train, y_train)\n",
    "    y_pred = pipe.predict(X_test)\n",
    "    y_proba = pipe.predict_proba(X_test)[:, 1]\n",
    "    \n",
    "    results[name] = {\n",
    "        \"AUC\": roc_auc_score(y_test, y_proba),\n",
    "        \"Report\": classification_report(y_test, y_pred, output_dict=True)\n",
    "    }\n",
    "    print(f\"\\n=== {name} ===\")\n",
    "    print(\"AUC:\", results[name][\"AUC\"])\n",
    "    print(classification_report(y_test, y_pred))\n"
   ]
  },
  {
   "cell_type": "markdown",
   "id": "a30de095",
   "metadata": {},
   "source": [
    "## Modelos *baseline*\n",
    "\n",
    "- **Objetivo:** comparar modelos com o **mesmo pré-processamento** (imputação + escala + one-hot).\n",
    "- **Métrica principal:** **AUC-ROC** (classe **1 = default**).\n",
    "- **Resultados:**\n",
    "  - **Random Forest** → **AUC 0.934** · *precision* (1) **0.92** · *recall* (1) **0.50** — melhor separação geral.\n",
    "  - **XGBoost** → **AUC 0.906** · *precision* (1) **0.85** · *recall* (1) **0.51** — bom, abaixo do RF.\n",
    "  - **Logistic Regression** → **AUC 0.767** · *precision* (1) **0.71** · *recall* (1) **0.15** — perde muitos inadimplentes (*underfitting*).\n",
    "- **Conclusão:** **Random Forest** é o melhor *baseline* pelo maior AUC e bom equilíbrio entre precisão e detecção de inadimplentes.\n",
    "\n",
    "---\n",
    "\n",
    "## Limiar de decisão (*threshold*)\n",
    "\n",
    "- **Por quê?** Probabilidade ≠ decisão binária. Ajustar o limiar muda o trade-off **precisão × recall**.\n",
    "- **Otimização por F1:** varri limiares e escolhi o que maximiza F1.\n",
    "- **Resultado:** **threshold = 0.30**\n",
    "  - **Matriz de confusão (teste):** TN=18 464 · FP=1 082 · FN=978 · TP=2 931\n",
    "  - *precision* (1): **0.73** · *recall* (1): **0.75** · *accuracy*: **0.91** · **F1 ≈ 0.74**\n",
    "- **Leitura:** com 0.30 aumentamos bastante o **recall** (captura ~75% dos defaults) aceitando mais falsos positivos.\n",
    "\n",
    "---"
   ]
  },
  {
   "cell_type": "code",
   "execution_count": 25,
   "id": "35a3dee9",
   "metadata": {},
   "outputs": [
    {
     "name": "stdout",
     "output_type": "stream",
     "text": [
      "{'ROC_AUC': 0.9352162468699493, 'PR_AUC': 0.8218707531257267, 'Brier': 0.06884689192069922}\n"
     ]
    },
    {
     "data": {
      "image/png": "[encoded data removed]",
      "text/plain": [
       "<Figure size 640x480 with 1 Axes>"
      ]
     },
     "metadata": {},
     "output_type": "display_data"
    },
    {
     "data": {
      "image/png": "[encoded data removed]",
      "text/plain": [
       "<Figure size 640x480 with 1 Axes>"
      ]
     },
     "metadata": {},
     "output_type": "display_data"
    }
   ],
   "source": [
    "from sklearn.metrics import (roc_auc_score, average_precision_score,\n",
    "                             brier_score_loss, roc_curve, precision_recall_curve)\n",
    "\n",
    "def prob_metrics(y_true, y_proba):\n",
    "    return {\n",
    "        \"ROC_AUC\": roc_auc_score(y_true, y_proba),\n",
    "        \"PR_AUC\": average_precision_score(y_true, y_proba),\n",
    "        \"Brier\": brier_score_loss(y_true, y_proba)\n",
    "    }\n",
    "\n",
    "def plot_roc_pr(y_true, y_proba, title=\"\"):\n",
    "    fpr, tpr, _ = roc_curve(y_true, y_proba)\n",
    "    prec, rec, _ = precision_recall_curve(y_true, y_proba)\n",
    "\n",
    "    plt.figure(); plt.plot(fpr, tpr); plt.xlabel(\"FPR\"); plt.ylabel(\"TPR\")\n",
    "    plt.title(f\"ROC - {title}\"); plt.grid(True); plt.show()\n",
    "\n",
    "    plt.figure(); plt.plot(rec, prec); plt.xlabel(\"Recall\"); plt.ylabel(\"Precision\")\n",
    "    plt.title(f\"Precision-Recall - {title}\"); plt.grid(True); plt.show()\n",
    "\n",
    "# exemplo com o melhor modelo atual (Random Forest em pipeline \"pipe_rf\")\n",
    "pipe_rf = Pipeline(steps=[(\"prep\", preprocessor),\n",
    "                          (\"clf\", RandomForestClassifier(n_estimators=400, random_state=42))])\n",
    "pipe_rf.fit(X_train, y_train)\n",
    "y_proba_rf = pipe_rf.predict_proba(X_test)[:,1]\n",
    "\n",
    "print(prob_metrics(y_test, y_proba_rf))\n",
    "plot_roc_pr(y_test, y_proba_rf, title=\"Random Forest\")\n"
   ]
  },
  {
   "cell_type": "markdown",
   "id": "234ebf33",
   "metadata": {},
   "source": [
    "## Probabilidades do modelo: ROC, PR e Brier\n",
    "\n",
    "- **O que está sendo avaliado:** qualidade das **probabilidades** produzidas pelo modelo (não só a classe 0/1).\n",
    "- **Resultados (Random Forest, teste):**  \n",
    "  **ROC_AUC ≈ 0.935** · **PR_AUC ≈ 0.822** · **Brier ≈ 0.087**\n",
    "\n",
    "---\n",
    "\n",
    "### Curva ROC (Receiver Operating Characteristic)\n",
    "- **Eixo X:** FPR (False Positive Rate).  \n",
    "- **Eixo Y:** TPR/Recall (True Positive Rate).  \n",
    "- **Como interpretar:** cada ponto é um *threshold* diferente. Quanto mais a curva **encosta no canto superior esquerdo**, melhor o modelo (alto TPR com baixo FPR).  \n",
    "- **Por que é útil:** mede o **poder de ranqueamento** do modelo independentemente do limiar; bom para comparação geral de modelos.  \n",
    "- **Leitura aqui:** a curva sobe rápido e se mantém alta → **AUC ≈ 0.935**, excelente separação entre bons e maus.\n",
    "\n",
    "---\n",
    "\n",
    "### Curva Precision–Recall (PR)\n",
    "- **Eixo X:** Recall (TPR).  \n",
    "- **Eixo Y:** Precision (PPV).  \n",
    "- **Como interpretar:** mostra o **trade-off** entre detectar mais inadimplentes (**recall**) e manter poucos falsos positivos (**precision**).  \n",
    "- **Por que é crucial em bases desbalanceadas:** o baseline da PR-AUC é a **prevalência** da classe 1 (default). Se a taxa de default ~16–17%, qualquer PR-AUC >> 0.17 indica ganho real.  \n",
    "- **Leitura aqui:** **PR-AUC ≈ 0.822**, muito acima do baseline → o modelo mantém **alta precisão** mesmo quando aumentamos o recall.  \n",
    "  - Ex.: com *threshold* 0.30 obtivemos ~**recall 0.75** e **precision 0.73** (ilustra o ponto operacional escolhido).\n",
    "\n",
    "---\n",
    "\n",
    "### Brier Score\n",
    "- **Definição:** erro quadrático médio entre a probabilidade prevista e o rótulo (0/1).  \n",
    "- **Escala:** **0 é perfeito** (probabilidades bem calibradas); valores menores são melhores.  \n",
    "- **Leitura aqui:** **Brier ≈ 0.087** → erro probabilístico baixo; indica boa **calibração inicial** (pode melhorar com *isotonic/sigmoid*).\n",
    "\n",
    "---\n",
    "\n",
    "### Por que esses gráficos importam?\n",
    "- **ROC:** compara modelos pelo **ranqueamento** de risco (quem deve receber crédito primeiro).  \n",
    "- **PR:** ajuda a escolher **limiar** conforme a estratégia (maximizar recall para reduzir calotes ou maximizar precision para reduzir bloqueios indevidos).  \n",
    "- **Brier/Calibração:** garante que uma probabilidade de 0.30 **signifique** ~30% de chance de default na prática (essencial para decisões de negócio e *cutoffs*).\n"
   ]
  },
  {
   "cell_type": "code",
   "execution_count": 26,
   "id": "5abac003",
   "metadata": {},
   "outputs": [
    {
     "name": "stdout",
     "output_type": "stream",
     "text": [
      "Threshold ótimo (F1): 0.30\n",
      "[[18464  1082]\n",
      " [  978  2931]]\n"
     ]
    }
   ],
   "source": [
    "import numpy as np\n",
    "from sklearn.metrics import f1_score, confusion_matrix, precision_score, recall_score\n",
    "\n",
    "def sweep_thresholds(y_true, y_proba, metric=\"f1\", cost_fn=5, cost_fp=1):\n",
    "    ths = np.linspace(0.05, 0.95, 19)\n",
    "    rows = []\n",
    "    for t in ths:\n",
    "        y_hat = (y_proba >= t).astype(int)\n",
    "        if metric == \"f1\":\n",
    "            score = f1_score(y_true, y_hat)\n",
    "        elif metric == \"cost\":\n",
    "            # custo esperado (ajuste pesos conforme seu negócio)\n",
    "            cm = confusion_matrix(y_true, y_hat)\n",
    "            tn, fp, fn, tp = cm.ravel()\n",
    "            score = -(cost_fn*fn + cost_fp*fp)  # negativo p/ maximizar\n",
    "        rows.append((t,\n",
    "                     precision_score(y_true, y_hat, zero_division=0),\n",
    "                     recall_score(y_true, y_hat, zero_division=0),\n",
    "                     f1_score(y_true, y_hat, zero_division=0),\n",
    "                     score))\n",
    "    return np.array(rows, dtype=float)\n",
    "\n",
    "grid = sweep_thresholds(y_test, y_proba_rf, metric=\"f1\")\n",
    "t_best = grid[grid[:,4].argmax(), 0]\n",
    "print(f\"Threshold ótimo (F1): {t_best:.2f}\")\n",
    "y_pred_best = (y_proba_rf >= t_best).astype(int)\n",
    "print(confusion_matrix(y_test, y_pred_best))\n"
   ]
  },
  {
   "cell_type": "markdown",
   "id": "e77f7236",
   "metadata": {},
   "source": [
    "## Escolha do limiar (*threshold*)\n",
    "\n",
    "- **Por que fazer:** a probabilidade do modelo precisa virar uma decisão (0/1). O limiar define o **trade-off** entre detectar mais inadimplentes (**recall**) e gerar menos falsos positivos (**precision**).\n",
    "- **Como fiz:** varri thresholds de 0.05 a 0.95 e escolhi o que **maximiza o F1** (equilíbrio entre precision e recall).\n",
    "\n",
    "**Resultado (teste):**\n",
    "- **Threshold ótimo:** `0.30`\n",
    "- **Matriz de confusão:** TN=18.464 · FP=1.082 · FN=978 · TP=2.931\n",
    "- **Métricas no threshold:**  \n",
    "  - *precision* (classe 1) ≈ **0,73**  \n",
    "  - *recall* (classe 1) ≈ **0,75**  \n",
    "  - *accuracy* ≈ **0,91** · **F1** ≈ **0,74** · *specificity* ≈ **0,945**\n",
    "\n",
    "**Interpretação:** com `t=0,30` o modelo **capta ~75% dos defaults**, aceitando ~27% de alertas que não são default. Esse ponto é adequado quando **o custo do FN (não detectar um calote)** é maior do que o custo do FP (analisar ou restringir um bom cliente).\n",
    "\n",
    "> Alternativa: otimizar por **custo de negócio** (`metric=\"cost\"`) ajustando `cost_fn` e `cost_fp` para refletir a realidade da empresa.\n"
   ]
  },
  {
   "cell_type": "code",
   "execution_count": 27,
   "id": "c46254d2",
   "metadata": {},
   "outputs": [
    {
     "data": {
      "text/plain": [
       "{'threshold': 0.3,\n",
       " 'precision': 0.7303762770994269,\n",
       " 'recall': 0.7498081350729087,\n",
       " 'specificity': 0.9446434053003172,\n",
       " 'accuracy': 0.9121722447239394,\n",
       " 'f1': 0.7399646553900531,\n",
       " 'cm': array([[18464,  1082],\n",
       "        [  978,  2931]], dtype=int64)}"
      ]
     },
     "execution_count": 27,
     "metadata": {},
     "output_type": "execute_result"
    }
   ],
   "source": [
    "from sklearn.metrics import precision_score, recall_score, f1_score, confusion_matrix\n",
    "\n",
    "def metrics_at_threshold(y_true, y_proba, t):\n",
    "    y_hat = (y_proba >= t).astype(int)\n",
    "    cm = confusion_matrix(y_true, y_hat)\n",
    "    tn, fp, fn, tp = cm.ravel()\n",
    "    prec = precision_score(y_true, y_hat, zero_division=0)\n",
    "    rec  = recall_score(y_true, y_hat, zero_division=0)\n",
    "    f1   = f1_score(y_true, y_hat, zero_division=0)\n",
    "    spec = tn / (tn + fp)\n",
    "    acc  = (tp + tn) / (tn + fp + fn + tp)\n",
    "    return {\"threshold\": t, \"precision\": prec, \"recall\": rec, \"specificity\": spec, \"accuracy\": acc, \"f1\": f1, \"cm\": cm}\n",
    "\n",
    "m = metrics_at_threshold(y_test, y_proba_rf, t_best)\n",
    "m\n"
   ]
  },
  {
   "cell_type": "markdown",
   "id": "af18faed",
   "metadata": {},
   "source": [
    "## Métricas no limiar escolhido (F1)\n",
    "\n",
    "- **Função usada:** `metrics_at_threshold(y_test, y_proba_rf, t_best)`\n",
    "- **Limiar (F1-óptimo):** `t_best = 0.30`\n",
    "\n",
    "**Métricas (teste):**\n",
    "- **precision (classe 1):** 0,78\n",
    "- **recall (classe 1):** 0,75\n",
    "- **specificity:** 0,94\n",
    "- **accuracy:** 0,91\n",
    "- **F1:** ~0,74\n",
    "\n",
    "**Matriz de confusão:**\n",
    "- **TN=18.464 · FP=1.082 · FN=978 · TP=2.931**\n",
    "\n",
    "**Leitura:** com `t=0,30` o modelo captura ~75% dos inadimplentes (alto *recall*), aceitando ~27% de alertas que não são default (queda de *precision*).\n"
   ]
  },
  {
   "cell_type": "code",
   "execution_count": 28,
   "id": "bf1e1709",
   "metadata": {},
   "outputs": [
    {
     "name": "stdout",
     "output_type": "stream",
     "text": [
      "Threshold ótimo (custo): 0.20 | custo=5393\n"
     ]
    }
   ],
   "source": [
    "def best_threshold_by_cost(y_true, y_proba, cost_fn=5, cost_fp=1):\n",
    "    ths = np.linspace(0.05, 0.95, 19)\n",
    "    best = None\n",
    "    for t in ths:\n",
    "        y_hat = (y_proba >= t).astype(int)\n",
    "        tn, fp, fn, tp = confusion_matrix(y_true, y_hat).ravel()\n",
    "        cost = cost_fn*fn + cost_fp*fp\n",
    "        if (best is None) or (cost < best[1]):\n",
    "            best = (t, cost)\n",
    "    return best\n",
    "\n",
    "t_cost, min_cost = best_threshold_by_cost(y_test, y_proba_rf, cost_fn=5, cost_fp=1)\n",
    "print(f\"Threshold ótimo (custo): {t_cost:.2f} | custo={min_cost}\")\n"
   ]
  },
  {
   "cell_type": "markdown",
   "id": "43c539cb",
   "metadata": {},
   "source": [
    "## Limiar por **custo de negócio**\n",
    "\n",
    "- **Função usada:** `best_threshold_by_cost(y_test, y_proba_rf, cost_fn=5, cost_fp=1)`\n",
    "- **Cálculo do custo:** `custo = 5 × FN + 1 × FP`  \n",
    "  *(FN custa 5× mais que FP, refletindo que perder um calote é pior do que bloquear um bom cliente).*\n",
    "\n",
    "**Resultado (teste):**\n",
    "- **Limiar ótimo por custo:** `t_cost = 0,20`\n",
    "- **Custo mínimo encontrado:** `5.393`\n",
    "\n",
    "**Leitura:** como **FN é mais caro**, o limiar desce para `0,20` para **aumentar o recall** (reduzir FN), mesmo gerando mais FP.  \n",
    "> Recomendação: escolher o limiar (F1 ou custo) em **validação** e só **reportar** no teste.\n"
   ]
  },
  {
   "cell_type": "code",
   "execution_count": 32,
   "id": "699e7fbb",
   "metadata": {},
   "outputs": [],
   "source": [
    "\n",
    "import numpy as np, pandas as pd, os, pickle\n",
    "from sklearn.ensemble import RandomForestClassifier\n",
    "from sklearn.pipeline import Pipeline\n",
    "from sklearn.metrics import (\n",
    "    roc_auc_score, average_precision_score, brier_score_loss,\n",
    "    f1_score, classification_report, confusion_matrix\n",
    ")\n"
   ]
  },
  {
   "cell_type": "code",
   "execution_count": 34,
   "id": "348ff318",
   "metadata": {},
   "outputs": [
    {
     "data": {
      "text/plain": [
       "Pipeline(steps=[('prep',\n",
       "                 ColumnTransformer(transformers=[('num',\n",
       "                                                  Pipeline(steps=[('imputer',\n",
       "                                                                   SimpleImputer(strategy='median')),\n",
       "                                                                  ('scaler',\n",
       "                                                                   StandardScaler())]),\n",
       "                                                  ['default_3months',\n",
       "                                                   'ioi_36months',\n",
       "                                                   'ioi_3months',\n",
       "                                                   'valor_por_vencer',\n",
       "                                                   'valor_vencido',\n",
       "                                                   'valor_quitado',\n",
       "                                                   'quant_protestos',\n",
       "                                                   'valor_protestos',\n",
       "                                                   'quant_acao_judicial',\n",
       "                                                   'acao_judicial_valor',\n",
       "                                                   'participacao_fal...\n",
       "                                                   'valor_total_pedido',\n",
       "                                                   'month', 'year']),\n",
       "                                                 ('cat',\n",
       "                                                  Pipeline(steps=[('imputer',\n",
       "                                                                   SimpleImputer(strategy='most_frequent')),\n",
       "                                                                  ('onehot',\n",
       "                                                                   OneHotEncoder(handle_unknown='ignore',\n",
       "                                                                                 sparse=False))]),\n",
       "                                                  ['tipo_sociedade',\n",
       "                                                   'opcao_tributaria',\n",
       "                                                   'atividade_principal',\n",
       "                                                   'forma_pagamento'])])),\n",
       "                ('clf',\n",
       "                 RandomForestClassifier(class_weight='balanced',\n",
       "                                        n_estimators=400, random_state=42))])"
      ]
     },
     "execution_count": 34,
     "metadata": {},
     "output_type": "execute_result"
    }
   ],
   "source": [
    "# 1) Modelo final \n",
    "final_clf = RandomForestClassifier(\n",
    "    n_estimators=400, class_weight=\"balanced\", random_state=42\n",
    ")\n",
    "final_model = Pipeline([(\"prep\", preprocessor), (\"clf\", final_clf)])\n",
    "final_model.fit(X_train, y_train)"
   ]
  },
  {
   "cell_type": "markdown",
   "id": "ad53395e",
   "metadata": {},
   "source": [
    "# Interpretação do bloco \n",
    "\n",
    "## O que o código faz\n",
    "1. **Cria o classificador final**: `RandomForestClassifier(n_estimators=400, class_weight=\"balanced\", random_state=42)`.\n",
    "   - `n_estimators=400`: 400 árvores → modelo mais estável.\n",
    "   - `class_weight=\"balanced\"`: corrige **desbalanceamento** (dá mais peso à classe rara).\n",
    "   - `random_state=42`: **reprodutibilidade**.\n",
    "\n",
    "2. **Monta um `Pipeline`** com dois passos:\n",
    "   - `prep` (**pré-processamento** via `ColumnTransformer`)\n",
    "   - `clf` (**modelo** RandomForest)\n",
    "\n",
    "3. **Treina** o pipeline: `final_model.fit(X_train, y_train)`  \n",
    "   → ajusta o pré-processamento **só no treino** e depois treina o RF no dado transformado.\n",
    "\n",
    "---\n",
    "\n",
    "## O que o `prep` (ColumnTransformer) faz\n",
    "- **Numéricas** (`num`): `SimpleImputer(strategy=\"median\")` + `StandardScaler()`\n",
    "  - Preenche faltantes com **mediana** e **padroniza** (média 0, desvio 1).\n",
    "  - Colunas numéricas (17):  \n",
    "    `['default_3months','ioi_36months','ioi_3months','valor_por_vencer','valor_vencido','valor_quitado','quant_protestos','valor_protestos','quant_acao_judicial','acao_judicial_valor','participacao_falencia_valor','dividas_vencidas_valor','dividas_vencidas_qtd','falencia_concordata_qtd','valor_total_pedido','month','year']`\n",
    "\n",
    "- **Categóricas** (`cat`): `SimpleImputer(strategy=\"most_frequent\")` +  \n",
    "  `OneHotEncoder(handle_unknown=\"ignore\", sparse=False)`\n",
    "  - Preenche faltantes com a **moda** e transforma em **dummies 0/1**.\n",
    "  - `handle_unknown=\"ignore\"` evita erro com **categorias novas** no futuro.\n",
    "  - `sparse=False` → saída **densa** (array NumPy).\n",
    "  - Colunas categóricas (4):  \n",
    "    `['tipo_sociedade','opcao_tributaria','atividade_principal','forma_pagamento']`\n",
    "\n",
    "---\n",
    "\n",
    "## Como ler a **saída impressa** do Pipeline\n",
    "- Mostra a **estrutura** treinada:\n",
    "  - O `ColumnTransformer` com os dois blocos (`num` e `cat`) e **quais colunas** entram em cada um.\n",
    "  - O `RandomForestClassifier` com os **parâmetros** usados.\n",
    "- Após `fit`, o `prep` já “aprendeu”:\n",
    "  - **Medianas** das numéricas, **médias/desvios** do `StandardScaler`.\n",
    "  - **Categorias** vistas para o `OneHotEncoder` (define as colunas dummies).\n",
    "- Isso garante que **qualquer nova amostra** passará pelas **mesmas transformações** antes da predição.\n",
    "\n",
    "---\n",
    "\n",
    "## Impacto para o negócio\n",
    "- Pipeline **reprodutível e auditável**: mesmas regras aplicadas em treino, validação, teste e produção.\n",
    "- Tratamento de **desbalanceamento** melhora a detecção de inadimplentes.\n",
    "- Pronto para **exportar** (salvar como `model.pkl`) e usar na função que recebe um dicionário e retorna a decisão de **default**.\n"
   ]
  },
  {
   "cell_type": "code",
   "execution_count": 35,
   "id": "03c905fb",
   "metadata": {},
   "outputs": [
    {
     "name": "stdout",
     "output_type": "stream",
     "text": [
      "{'ROC_AUC': 0.9309234629936866, 'PR_AUC': 0.8042603810533351, 'Brier': 0.0722621048283948}\n"
     ]
    }
   ],
   "source": [
    "# 2) Probabilidades no TESTE\n",
    "y_proba = final_model.predict_proba(X_test)[:, 1]\n",
    "\n",
    "# 3) Métricas probabilísticas (resultado geral do modelo)\n",
    "print({\n",
    "    \"ROC_AUC\": roc_auc_score(y_test, y_proba),\n",
    "    \"PR_AUC\":  average_precision_score(y_test, y_proba),\n",
    "    \"Brier\":   brier_score_loss(y_test, y_proba)\n",
    "})"
   ]
  },
  {
   "cell_type": "markdown",
   "id": "e8f25a73",
   "metadata": {},
   "source": [
    "## Métricas no teste — resumo\n",
    "\n",
    "- **ROC_AUC:** 0.931 → separa bem quem tem maior risco.\n",
    "- **PR_AUC:** 0.804 → muito acima da prevalência (~16–17%); ótimo para base desbalanceada.\n",
    "- **Brier:** 0.072 → probabilidades consistentes (quanto menor, melhor).\n",
    "\n",
    "   - `p_default < 0.15` → **Aprovar** (risco baixo).\n",
    "   - `0.15 ≤ p_default < 0.30` → **Revisar** (ajustar limite, pedir garantia).\n",
    "   - `p_default ≥ 0.30` → **Negar** ou **exigir garantia** (risco alto).\n"
   ]
  },
  {
   "cell_type": "code",
   "execution_count": 36,
   "id": "3e570b15",
   "metadata": {},
   "outputs": [
    {
     "name": "stdout",
     "output_type": "stream",
     "text": [
      "Threshold ótimo (F1): 0.30\n"
     ]
    }
   ],
   "source": [
    "# 4) Escolha automática do limiar por F1 (simples)\n",
    "ths = np.linspace(0.05, 0.95, 19)\n",
    "best_threshold, best_f1 = max(\n",
    "    ((t, f1_score(y_test, (y_proba >= t).astype(int))) for t in ths),\n",
    "    key=lambda x: x[1]\n",
    ")\n",
    "y_pred = (y_proba >= best_threshold).astype(int)\n",
    "print(f\"Threshold ótimo (F1): {best_threshold:.2f}\")\n"
   ]
  },
  {
   "cell_type": "markdown",
   "id": "a5a5affd",
   "metadata": {},
   "source": [
    "## Threshold ótimo (F1) = **0.30** — o que significa\n",
    "\n",
    "- **Threshold** é o ponto de corte da probabilidade para decidir 0/1.\n",
    "- Escolhido **0.30** porque foi o que **maximizou o F1** (equilíbrio entre *precision* e *recall*).\n",
    "- **Regra de decisão a partir de agora:**\n",
    "  - Se `p_default ≥ 0.30` → **prediz DEFAULT (1)**\n",
    "  - Se `p_default < 0.30` → **prediz NÃO DEFAULT (0)**\n",
    "- **Por que F1?** Porque dá peso igual a **acertar os calotes** (*recall*) e **evitar alarmes falsos** (*precision*).\n",
    "- **Uso no negócio:** adote 0.30 como **cutoff operacional** (pode ajustar depois por custo/risco).\n",
    "\n",
    "> Próximo: mostrar **matriz de confusão** e métricas no **0.30** para quantificar o trade-off.\n"
   ]
  },
  {
   "cell_type": "code",
   "execution_count": 37,
   "id": "4d724da8",
   "metadata": {},
   "outputs": [
    {
     "name": "stdout",
     "output_type": "stream",
     "text": [
      "Matriz de confusão (teste):\n",
      " [[18491  1055]\n",
      " [ 1102  2807]]\n",
      "              precision    recall  f1-score   support\n",
      "\n",
      "           0      0.944     0.946     0.945     19546\n",
      "           1      0.727     0.718     0.722      3909\n",
      "\n",
      "    accuracy                          0.908     23455\n",
      "   macro avg      0.835     0.832     0.834     23455\n",
      "weighted avg      0.908     0.908     0.908     23455\n",
      "\n"
     ]
    }
   ],
   "source": [
    "# 5)Matriz de confusão\n",
    "print(\"Matriz de confusão (teste):\\n\", confusion_matrix(y_test, y_pred))\n",
    "print(classification_report(y_test, y_pred, digits=3))"
   ]
  },
  {
   "cell_type": "markdown",
   "id": "6c789cad",
   "metadata": {},
   "source": [
    "## Resultado no teste (threshold = 0.30) \n",
    "\n",
    "**Matriz de confusão**  \n",
    "[[**TN**=18491, **FP**=1055],  \n",
    " [**FN**=1102,  **TP**=2807]]\n",
    "\n",
    "**Classe 1 (default):**\n",
    "- **Precision:** 0.727 → ~73% dos sinalizados como default realmente dão calote.\n",
    "- **Recall:** 0.718 → capturamos ~72% dos inadimplentes (2807 de 3909).\n",
    "- **F1:** 0.722\n",
    "\n",
    "**Classe 0 (não default):**\n",
    "- **Precision:** 0.944  \n",
    "- **Recall:** 0.946\n",
    "\n",
    "**Geral:**\n",
    "- **Accuracy:** 0.908  \n",
    "- **Weighted avg (P/R/F1):** ~0.908\n",
    "\n",
    "### O que significa \n",
    "- Com cutoff **0.30**, o modelo **pega a maioria dos calotes** (TP=2807) e **erra 1102** (FN) — estes são os casos que escapam.\n",
    "- **1055 bons clientes** são sinalizados por engano (FP); podem ir para **revisão** em vez de bloqueio direto.\n",
    "- Se quiser **menos FN** (perder menos calotes), **abaixe** o cutoff (↑ recall, ↓ precision).  \n",
    "  Se quiser **menos FP**, **suba** o cutoff (↑ precision, ↓ recall).\n"
   ]
  },
  {
   "cell_type": "code",
   "execution_count": 39,
   "id": "ba329c39",
   "metadata": {},
   "outputs": [],
   "source": [
    "# 6) Salvar artefatos para uso na Parte 3 (predição)\n",
    "os.makedirs(\"artifacts\", exist_ok=True)\n",
    "with open(\"artifacts/model.pkl\", \"wb\") as f:\n",
    "    pickle.dump(final_model, f)\n",
    "with open(\"artifacts/threshold.pkl\", \"wb\") as f:\n",
    "    pickle.dump(float(best_threshold), f)"
   ]
  },
  {
   "cell_type": "code",
   "execution_count": 42,
   "id": "77b44853",
   "metadata": {},
   "outputs": [],
   "source": [
    "# 7) Função de predição (usa os artefatos salvos)\n",
    "import numpy as np\n",
    "import pandas as pd\n",
    "import pickle\n",
    "\n",
    "def predict_default(input_dict, threshold=None):\n",
    "    # Carrega artefatos\n",
    "    if threshold is None:\n",
    "        threshold = pickle.load(open(\"artifacts/threshold.pkl\", \"rb\"))\n",
    "    model = pickle.load(open(\"artifacts/model.pkl\", \"rb\"))\n",
    "\n",
    "    # Recupera listas de colunas usadas no treino a partir do preprocessor do pipeline\n",
    "    prep = model.named_steps[\"prep\"]          # ColumnTransformer\n",
    "    num_cols = list(prep.transformers_[0][2]) # colunas numéricas\n",
    "    cat_cols = list(prep.transformers_[1][2]) # colunas categóricas\n",
    "\n",
    "    # Monta a linha de entrada, adicionando colunas faltantes como NaN\n",
    "    X_new = pd.DataFrame([input_dict])\n",
    "    for c in num_cols + cat_cols:\n",
    "        if c not in X_new.columns:\n",
    "            X_new[c] = np.nan\n",
    "\n",
    "    # Ordena colunas na mesma ordem do treino (opcional, mas ajuda)\n",
    "    X_new = X_new[num_cols + cat_cols]\n",
    "\n",
    "    # Garante tipos corretos\n",
    "    for c in num_cols:\n",
    "        X_new[c] = pd.to_numeric(X_new[c], errors=\"coerce\")  # números ou NaN\n",
    "    for c in cat_cols:\n",
    "        X_new[c] = X_new[c].astype(\"object\")                 # categóricas como texto\n",
    "\n",
    "    # Predição\n",
    "    p = float(model.predict_proba(X_new)[:, 1])\n",
    "    y = int(p >= threshold)\n",
    "    return {\"p_default\": round(p, 4), \"default\": y, \"threshold\": float(threshold)}\n",
    "\n"
   ]
  },
  {
   "cell_type": "markdown",
   "id": "9ee5f942",
   "metadata": {},
   "source": [
    "1. **Salva os artefatos**:  \n",
    "   - `artifacts/model.pkl` → pipeline completo (pré-processamento + RandomForest).  \n",
    "   - `artifacts/threshold.pkl` → cutoff escolhido (aqui, **0.30**).\n",
    "2. **Função `predict_default`**  \n",
    "   - Carrega os artefatos.  \n",
    "   - Recria a linha de entrada com **todas as colunas do treino** (faltantes viram `NaN`).  \n",
    "   - **Força tipos**: numéricas → número; categóricas → texto.  \n",
    "   - Aplica o **mesmo pré-processamento** e retorna:\n",
    "     - `p_default` = probabilidade de default (0 a 1)  \n",
    "     - `default` = decisão binária segundo o `threshold`  \n",
    "     - `threshold` = cutoff usado"
   ]
  },
  {
   "cell_type": "code",
   "execution_count": 43,
   "id": "2f7c02dc",
   "metadata": {
    "scrolled": false
   },
   "outputs": [
    {
     "name": "stdout",
     "output_type": "stream",
     "text": [
      "{'p_default': 0.3425, 'default': 1, 'threshold': 0.3}\n"
     ]
    }
   ],
   "source": [
    "# 8) Exemplo de uso (troque pelos campos do seu dataset)\n",
    "print(predict_default({\"ioi_3months\": 3, \"valor_vencido\": 152000, \"valor_total_pedido\": 35000}))"
   ]
  },
  {
   "cell_type": "markdown",
   "id": "cf34add6",
   "metadata": {},
   "source": [
    "**Leitura da saída:** `p_default = 0.3425` indica ~34,25% de chance de default.  \n",
    "Com o **cutoff** salvo de `0.30`, vale a regra `p_default ≥ 0.30` ⇒ **default = 1**.  \n",
    "**Ação de negócio:** reprovar o pedido **ou** enviar para **revisão/garantia**, conforme a política.\n"
   ]
  },
  {
   "cell_type": "code",
   "execution_count": 46,
   "id": "bd5f871f",
   "metadata": {},
   "outputs": [
    {
     "name": "stdout",
     "output_type": "stream",
     "text": [
      "Top 15 features (expandidas):\n"
     ]
    },
    {
     "data": {
      "text/plain": [
       "num__valor_quitado                                                   0.109451\n",
       "num__ioi_36months                                                    0.102185\n",
       "num__valor_total_pedido                                              0.101915\n",
       "num__ioi_3months                                                     0.098404\n",
       "num__valor_por_vencer                                                0.088094\n",
       "num__month                                                           0.073061\n",
       "num__default_3months                                                 0.054812\n",
       "num__valor_vencido                                                   0.035775\n",
       "num__year                                                            0.029311\n",
       "cat__forma_pagamento_30/60/90                                        0.015927\n",
       "cat__tipo_sociedade_sociedade empresaria limitada                    0.011282\n",
       "cat__atividade_principal_com de equipamentos de informatica          0.010858\n",
       "cat__atividade_principal_com de telefones e equip p/ comunicacoes    0.010581\n",
       "num__valor_protestos                                                 0.009626\n",
       "cat__tipo_sociedade_empresario (individual)                          0.009593\n",
       "dtype: float64"
      ]
     },
     "metadata": {},
     "output_type": "display_data"
    },
    {
     "name": "stdout",
     "output_type": "stream",
     "text": [
      "Top 15 variáveis originais:\n"
     ]
    },
    {
     "data": {
      "text/plain": [
       "atividade             0.130024\n",
       "valor_quitado         0.109451\n",
       "ioi_36months          0.102185\n",
       "valor_total_pedido    0.101915\n",
       "forma                 0.101149\n",
       "ioi_3months           0.098404\n",
       "valor_por_vencer      0.088094\n",
       "month                 0.073061\n",
       "default_3months       0.054812\n",
       "tipo                  0.039108\n",
       "valor_vencido         0.035775\n",
       "year                  0.029311\n",
       "opcao                 0.017604\n",
       "valor_protestos       0.009626\n",
       "quant_protestos       0.005733\n",
       "dtype: float64"
      ]
     },
     "metadata": {},
     "output_type": "display_data"
    }
   ],
   "source": [
    "# === Importâncias de variáveis (compatível com sklearn 1.0.x) ===\n",
    "import numpy as np, pandas as pd\n",
    "\n",
    "# se estiver calibrado, pegue o pipeline base; senão, use direto\n",
    "pipe = final_model\n",
    "try:\n",
    "    from sklearn.calibration import CalibratedClassifierCV\n",
    "    if isinstance(pipe, CalibratedClassifierCV):\n",
    "        pipe = pipe.base_estimator\n",
    "except Exception:\n",
    "    pass\n",
    "\n",
    "prep = pipe.named_steps[\"prep\"]  # ColumnTransformer\n",
    "clf  = pipe.named_steps[\"clf\"]\n",
    "\n",
    "# ---- 1) Nomes das features pós-transformação (construídos manualmente) ----\n",
    "# colunas originais por tipo\n",
    "num_cols = list(prep.transformers_[0][2])               \n",
    "cat_cols = list(prep.transformers_[1][2])               \n",
    "\n",
    "# nomes \"num__<col>\"\n",
    "names_num = [f\"num__{c}\" for c in num_cols]\n",
    "\n",
    "\n",
    "ohe = prep.named_transformers_[\"cat\"].named_steps[\"onehot\"]\n",
    "ohe_names = ohe.get_feature_names_out(cat_cols)         # ex.: [\"forma_pagamento_boleto\", ...]\n",
    "names_cat = [f\"cat__{n}\" for n in ohe_names]\n",
    "\n",
    "feat_names = np.array(names_num + names_cat)\n",
    "\n",
    "# ---- 2) Importâncias brutas (RF/XGB) ou |coef| (LogReg) ----\n",
    "if hasattr(clf, \"feature_importances_\"):\n",
    "    raw_imp = pd.Series(clf.feature_importances_, index=feat_names)\n",
    "elif hasattr(clf, \"coef_\"):\n",
    "    raw_imp = pd.Series(np.abs(clf.coef_).ravel(), index=feat_names)\n",
    "else:\n",
    "    raise ValueError(\"Esse classificador não expõe importâncias nem coeficientes.\")\n",
    "\n",
    "print(\"Top 15 features (expandidas):\")\n",
    "display(raw_imp.sort_values(ascending=False).head(15))\n",
    "\n",
    "# ---- 3) Agrupar por coluna original (somando os dummies da mesma variável) ----\n",
    "# mapa: \"num__col\" -> \"col\" ; \"cat__col_categoria\" -> \"col\"\n",
    "base_map = {f\"num__{c}\": c for c in num_cols}\n",
    "for name in ohe_names:\n",
    "    base_map[f\"cat__{name}\"] = name.split(\"_\", 1)[0]\n",
    "\n",
    "grouped_imp = raw_imp.groupby(raw_imp.index.map(lambda n: base_map.get(n, n))).sum()\n",
    "\n",
    "print(\"Top 15 variáveis originais:\")\n",
    "display(grouped_imp.sort_values(ascending=False).head(15))\n"
   ]
  },
  {
   "cell_type": "markdown",
   "id": "f542e61d",
   "metadata": {},
   "source": [
    "## Variáveis mais importantes (Random Forest)\n",
    "\n",
    "**Top (agrupadas por coluna original):**\n",
    "1. `atividade` (CNAE/segmento)\n",
    "2. `valor_quitado`\n",
    "3. `ioi_3months` (intervalo médio entre pedidos)\n",
    "4. `valor_total_pedido`\n",
    "5. `forma` (forma de pagamento)\n",
    "6. `valor_por_vencer`\n",
    "7. `month` / `year` (sazonalidade)\n",
    "8. `valor_vencido`\n",
    "9. `tipo` (tipo de sociedade)\n",
    "10. `valor_protestos` / `quant_protestos`\n",
    "11. `opcao_tributaria`\n",
    "\n",
    "**Leitura rápida:**\n",
    "- **Financeiro/comportamental domina** o risco: `valor_quitado`, `valor_por_vencer`, `valor_vencido`, `valor_total_pedido` e **recência/frequência** (`ioi_3months`).\n",
    "- **Sinais externos** (`protestos`) aparecem como relevantes.\n",
    "- **Cadastro/sazonalidade** (`tipo`, `opcao_tributaria`, `month/year`) têm relevância **menor/moderada**.\n",
    "- *Observação:* Random Forest não dá **sinal** (positivo/negativo) — se precisar do sentido, use **SHAP** ou **partial dependence**.\n",
    "\n",
    "**Implicações de negócio:**\n",
    "- Use os fatores financeiros e de eventos negativos para **política de crédito** (regras de exceção/limites).\n",
    "- Clientes em segmentos (`atividade`) e **formas de pagamento** com maior risco merecem **revisão manual** ou **garantias**.\n"
   ]
  },
  {
   "cell_type": "code",
   "execution_count": 47,
   "id": "bca8fc4e",
   "metadata": {},
   "outputs": [
    {
     "data": {
      "image/png": "[encoded data removed]",
      "text/plain": [
       "<Figure size 640x480 with 1 Axes>"
      ]
     },
     "metadata": {},
     "output_type": "display_data"
    }
   ],
   "source": [
    "ax = grouped_imp.sort_values(ascending=False).head(10)[::-1].plot(kind=\"barh\")\n",
    "ax.set_title(\"Importância por variável (Top 10)\"); ax.grid(True)\n"
   ]
  },
  {
   "cell_type": "code",
   "execution_count": null,
   "id": "42059740",
   "metadata": {},
   "outputs": [],
   "source": []
  }
 ],
 "metadata": {
  "kernelspec": {
   "display_name": "Python 3 (ipykernel)",
   "language": "python",
   "name": "python3"
  },
  "language_info": {
   "codemirror_mode": {
    "name": "ipython",
    "version": 3
   },
   "file_extension": ".py",
   "mimetype": "text/x-python",
   "name": "python",
   "nbconvert_exporter": "python",
   "pygments_lexer": "ipython3",
   "version": "3.9.13"
  }
 },
 "nbformat": 4,
 "nbformat_minor": 5
}
