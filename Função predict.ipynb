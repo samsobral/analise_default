{
 "cells": [
  {
   "cell_type": "code",
   "execution_count": 4,
   "id": "4db70021",
   "metadata": {},
   "outputs": [],
   "source": [
    "# 1) Imports\n",
    "import numpy as np\n",
    "import pandas as pd\n",
    "import pickle\n"
   ]
  },
  {
   "cell_type": "code",
   "execution_count": 5,
   "id": "76ed8cba",
   "metadata": {},
   "outputs": [],
   "source": [
    "# 2) Carregar artefatos treinados\n",
    "MODEL_PATH = \"artifacts/model.pkl\"\n",
    "THRESH_PATH = \"artifacts/threshold.pkl\"\n",
    "\n",
    "with open(MODEL_PATH, \"rb\") as f:\n",
    "    MODEL = pickle.load(f)\n",
    "with open(THRESH_PATH, \"rb\") as f:\n",
    "    THRESH = float(pickle.load(f))\n",
    "\n",
    "\n",
    "prep = MODEL.named_steps[\"prep\"]\n",
    "NUM_COLS = list(prep.transformers_[0][2])  \n",
    "CAT_COLS = list(prep.transformers_[1][2])  \n"
   ]
  },
  {
   "cell_type": "code",
   "execution_count": 6,
   "id": "8d4ec27b",
   "metadata": {},
   "outputs": [],
   "source": [
    "# 3) Função de predição — retorna SOMENTE {\"default\": 0 ou 1}\n",
    "def predict_default(input_dict: dict) -> dict:\n",
    "    X = pd.DataFrame([input_dict])\n",
    "\n",
    "    \n",
    "    for c in NUM_COLS + CAT_COLS:\n",
    "        if c not in X.columns:\n",
    "            X[c] = np.nan\n",
    "    X = X[NUM_COLS + CAT_COLS]\n",
    "\n",
    "\n",
    "    for c in NUM_COLS:\n",
    "        X[c] = pd.to_numeric(X[c], errors=\"coerce\")\n",
    "    for c in CAT_COLS:\n",
    "        X[c] = X[c].astype(\"object\")\n",
    "\n",
    "\n",
    "    p = float(MODEL.predict_proba(X)[:, 1])\n",
    "    return {\"default\": int(p >= THRESH)}\n"
   ]
  },
  {
   "cell_type": "code",
   "execution_count": 7,
   "id": "4d008661",
   "metadata": {},
   "outputs": [
    {
     "data": {
      "text/plain": [
       "{'default': 1}"
      ]
     },
     "execution_count": 7,
     "metadata": {},
     "output_type": "execute_result"
    }
   ],
   "source": [
    "# 4) Exemplo de uso (remova na entrega se quiser)\n",
    "predict_default({\"ioi_3months\": 3, \"valor_vencido\": 152000, \"valor_total_pedido\": 35000})\n"
   ]
  }
 ],
 "metadata": {
  "kernelspec": {
   "display_name": "Python 3 (ipykernel)",
   "language": "python",
   "name": "python3"
  },
  "language_info": {
   "codemirror_mode": {
    "name": "ipython",
    "version": 3
   },
   "file_extension": ".py",
   "mimetype": "text/x-python",
   "name": "python",
   "nbconvert_exporter": "python",
   "pygments_lexer": "ipython3",
   "version": "3.9.13"
  }
 },
 "nbformat": 4,
 "nbformat_minor": 5
}
